{
 "cells": [
  {
   "cell_type": "markdown",
   "metadata": {
    "deletable": true,
    "editable": true
   },
   "source": [
    "# TV Script Generation\n",
    "In this project, you'll generate your own [Simpsons](https://en.wikipedia.org/wiki/The_Simpsons) TV scripts using RNNs.  You'll be using part of the [Simpsons dataset](https://www.kaggle.com/wcukierski/the-simpsons-by-the-data) of scripts from 27 seasons.  The Neural Network you'll build will generate a new TV script for a scene at [Moe's Tavern](https://simpsonswiki.com/wiki/Moe's_Tavern).\n",
    "## Get the Data\n",
    "The data is already provided for you.  You'll be using a subset of the original dataset.  It consists of only the scenes in Moe's Tavern.  This doesn't include other versions of the tavern, like \"Moe's Cavern\", \"Flaming Moe's\", \"Uncle Moe's Family Feed-Bag\", etc.."
   ]
  },
  {
   "cell_type": "code",
   "execution_count": 1,
   "metadata": {
    "collapsed": false,
    "deletable": true,
    "editable": true
   },
   "outputs": [],
   "source": [
    "\"\"\"\n",
    "DON'T MODIFY ANYTHING IN THIS CELL\n",
    "\"\"\"\n",
    "import helper\n",
    "\n",
    "data_dir = './data/simpsons/moes_tavern_lines.txt'\n",
    "text = helper.load_data(data_dir)\n",
    "# Ignore notice, since we don't use it for analysing the data\n",
    "text = text[81:]"
   ]
  },
  {
   "cell_type": "markdown",
   "metadata": {
    "deletable": true,
    "editable": true
   },
   "source": [
    "## Explore the Data\n",
    "Play around with `view_sentence_range` to view different parts of the data."
   ]
  },
  {
   "cell_type": "code",
   "execution_count": 2,
   "metadata": {
    "collapsed": false,
    "deletable": true,
    "editable": true
   },
   "outputs": [
    {
     "name": "stdout",
     "output_type": "stream",
     "text": [
      "Dataset Stats\n",
      "Roughly the number of unique words: 11492\n",
      "Number of scenes: 262\n",
      "Average number of sentences in each scene: 15.248091603053435\n",
      "Number of lines: 4257\n",
      "Average number of words in each line: 11.50434578341555\n",
      "\n",
      "The sentences 0 to 10:\n",
      "Moe_Szyslak: (INTO PHONE) Moe's Tavern. Where the elite meet to drink.\n",
      "Bart_Simpson: Eh, yeah, hello, is Mike there? Last name, Rotch.\n",
      "Moe_Szyslak: (INTO PHONE) Hold on, I'll check. (TO BARFLIES) Mike Rotch. Mike Rotch. Hey, has anybody seen Mike Rotch, lately?\n",
      "Moe_Szyslak: (INTO PHONE) Listen you little puke. One of these days I'm gonna catch you, and I'm gonna carve my name on your back with an ice pick.\n",
      "Moe_Szyslak: What's the matter Homer? You're not your normal effervescent self.\n",
      "Homer_Simpson: I got my problems, Moe. Give me another one.\n",
      "Moe_Szyslak: Homer, hey, you should not drink to forget your problems.\n",
      "Barney_Gumble: Yeah, you should only drink to enhance your social skills.\n",
      "\n",
      "\n"
     ]
    }
   ],
   "source": [
    "view_sentence_range = (0, 10)\n",
    "\n",
    "\"\"\"\n",
    "DON'T MODIFY ANYTHING IN THIS CELL\n",
    "\"\"\"\n",
    "import numpy as np\n",
    "\n",
    "print('Dataset Stats')\n",
    "print('Roughly the number of unique words: {}'.format(len({word: None for word in text.split()})))\n",
    "scenes = text.split('\\n\\n')\n",
    "print('Number of scenes: {}'.format(len(scenes)))\n",
    "sentence_count_scene = [scene.count('\\n') for scene in scenes]\n",
    "print('Average number of sentences in each scene: {}'.format(np.average(sentence_count_scene)))\n",
    "\n",
    "sentences = [sentence for scene in scenes for sentence in scene.split('\\n')]\n",
    "print('Number of lines: {}'.format(len(sentences)))\n",
    "word_count_sentence = [len(sentence.split()) for sentence in sentences]\n",
    "print('Average number of words in each line: {}'.format(np.average(word_count_sentence)))\n",
    "\n",
    "print()\n",
    "print('The sentences {} to {}:'.format(*view_sentence_range))\n",
    "print('\\n'.join(text.split('\\n')[view_sentence_range[0]:view_sentence_range[1]]))"
   ]
  },
  {
   "cell_type": "markdown",
   "metadata": {
    "deletable": true,
    "editable": true
   },
   "source": [
    "## Implement Preprocessing Functions\n",
    "The first thing to do to any dataset is preprocessing.  Implement the following preprocessing functions below:\n",
    "- Lookup Table\n",
    "- Tokenize Punctuation\n",
    "\n",
    "### Lookup Table\n",
    "To create a word embedding, you first need to transform the words to ids.  In this function, create two dictionaries:\n",
    "- Dictionary to go from the words to an id, we'll call `vocab_to_int`\n",
    "- Dictionary to go from the id to word, we'll call `int_to_vocab`\n",
    "\n",
    "Return these dictionaries in the following tuple `(vocab_to_int, int_to_vocab)`"
   ]
  },
  {
   "cell_type": "code",
   "execution_count": 3,
   "metadata": {
    "collapsed": false,
    "deletable": true,
    "editable": true
   },
   "outputs": [
    {
     "name": "stdout",
     "output_type": "stream",
     "text": [
      "Length vocab_to_int: 71 | Length int_to_vocab: 71\n",
      "Tests Passed\n"
     ]
    }
   ],
   "source": [
    "import numpy as np\n",
    "import problem_unittests as tests\n",
    "\n",
    "def create_lookup_tables(text):\n",
    "    \"\"\"\n",
    "    Create lookup tables for vocabulary\n",
    "    :param text: The text of tv scripts split into words\n",
    "    :return: A tuple of dicts (vocab_to_int, int_to_vocab)\n",
    "    \n",
    "    \"\"\"\n",
    "    # Most freqents words would have lowest index\n",
    "    from collections import Counter\n",
    "    #unique words\n",
    "    corpus = list( set(text) )\n",
    "    int_to_vocab = dict()\n",
    "    vocab_to_int = dict()\n",
    "    for i in range( len(corpus) ):\n",
    "        vocab_to_int[ corpus[i] ] = i\n",
    "        int_to_vocab[i] = corpus[i]\n",
    "    # TODO: Implement Function\n",
    "    print(\"Length vocab_to_int: {} | Length int_to_vocab: {}\".format(len(vocab_to_int), len(int_to_vocab)))\n",
    "    return (vocab_to_int, int_to_vocab)\n",
    "\n",
    "\n",
    "\n",
    "\n",
    "\"\"\"\n",
    "DON'T MODIFY ANYTHING IN THIS CELL THAT IS BELOW THIS LINE\n",
    "\"\"\"\n",
    "tests.test_create_lookup_tables(create_lookup_tables)"
   ]
  },
  {
   "cell_type": "markdown",
   "metadata": {
    "deletable": true,
    "editable": true
   },
   "source": [
    "### Tokenize Punctuation\n",
    "We'll be splitting the script into a word array using spaces as delimiters.  However, punctuations like periods and exclamation marks make it hard for the neural network to distinguish between the word \"bye\" and \"bye!\".\n",
    "\n",
    "Implement the function `token_lookup` to return a dict that will be used to tokenize symbols like \"!\" into \"||Exclamation_Mark||\".  Create a dictionary for the following symbols where the symbol is the key and value is the token:\n",
    "- Period ( . )\n",
    "- Comma ( , )\n",
    "- Quotation Mark ( \" )\n",
    "- Semicolon ( ; )\n",
    "- Exclamation mark ( ! )\n",
    "- Question mark ( ? )\n",
    "- Left Parentheses ( ( )\n",
    "- Right Parentheses ( ) )\n",
    "- Dash ( -- )\n",
    "- Return ( \\n )\n",
    "\n",
    "This dictionary will be used to token the symbols and add the delimiter (space) around it.  This separates the symbols as it's own word, making it easier for the neural network to predict on the next word. Make sure you don't use a token that could be confused as a word. Instead of using the token \"dash\", try using something like \"||dash||\"."
   ]
  },
  {
   "cell_type": "code",
   "execution_count": 4,
   "metadata": {
    "collapsed": false,
    "deletable": true,
    "editable": true
   },
   "outputs": [
    {
     "name": "stdout",
     "output_type": "stream",
     "text": [
      "Tests Passed\n"
     ]
    }
   ],
   "source": [
    "def token_lookup():\n",
    "    \"\"\"\n",
    "    Generate a dict to turn punctuation into a token.\n",
    "    :return: Tokenize dictionary where the key is the punctuation and the value is the token\n",
    "    \"\"\"\n",
    "    # TODO: Implement Function\n",
    "    punctuation = [',', '.', '\"', \";\", \"?\", \"(\", \")\", \"--\", \"\\n\", \"!\"]\n",
    "    tokens = [\"<COMMA>\", \"<PERIOD>\", \"<QUOTE>\", \"<SEMICOLON>\", \"<QUESTION>\", \"<LEFT_PARENTHESIS>\",\n",
    "            \"<RIGHT_PARENTHESIS>\", \"<DASH>\", \"<RETURN>\", \"<EXCLAMATION_MARK>\"]\n",
    "    token_dict = dict(zip(punctuation, tokens))    \n",
    "    return token_dict\n",
    "\n",
    "\"\"\"\n",
    "DON'T MODIFY ANYTHING IN THIS CELL THAT IS BELOW THIS LINE\n",
    "\"\"\"\n",
    "tests.test_tokenize(token_lookup)"
   ]
  },
  {
   "cell_type": "markdown",
   "metadata": {
    "deletable": true,
    "editable": true
   },
   "source": [
    "## Preprocess all the data and save it\n",
    "Running the code cell below will preprocess all the data and save it to file."
   ]
  },
  {
   "cell_type": "code",
   "execution_count": 5,
   "metadata": {
    "collapsed": false,
    "deletable": true,
    "editable": true
   },
   "outputs": [
    {
     "name": "stdout",
     "output_type": "stream",
     "text": [
      "Length vocab_to_int: 6779 | Length int_to_vocab: 6779\n"
     ]
    }
   ],
   "source": [
    "\"\"\"\n",
    "DON'T MODIFY ANYTHING IN THIS CELL\n",
    "\"\"\"\n",
    "# Preprocess Training, Validation, and Testing Data\n",
    "helper.preprocess_and_save_data(data_dir, token_lookup, create_lookup_tables)"
   ]
  },
  {
   "cell_type": "markdown",
   "metadata": {
    "deletable": true,
    "editable": true
   },
   "source": [
    "# Check Point\n",
    "This is your first checkpoint. If you ever decide to come back to this notebook or have to restart the notebook, you can start from here. The preprocessed data has been saved to disk."
   ]
  },
  {
   "cell_type": "code",
   "execution_count": 6,
   "metadata": {
    "collapsed": false,
    "deletable": true,
    "editable": true
   },
   "outputs": [],
   "source": [
    "\"\"\"\n",
    "DON'T MODIFY ANYTHING IN THIS CELL\n",
    "\"\"\"\n",
    "import helper\n",
    "import numpy as np\n",
    "import problem_unittests as tests\n",
    "\n",
    "int_text, vocab_to_int, int_to_vocab, token_dict = helper.load_preprocess()"
   ]
  },
  {
   "cell_type": "markdown",
   "metadata": {
    "deletable": true,
    "editable": true
   },
   "source": [
    "## Build the Neural Network\n",
    "You'll build the components necessary to build a RNN by implementing the following functions below:\n",
    "- get_inputs\n",
    "- get_init_cell\n",
    "- get_embed\n",
    "- build_rnn\n",
    "- build_nn\n",
    "- get_batches\n",
    "\n",
    "### Check the Version of TensorFlow and Access to GPU"
   ]
  },
  {
   "cell_type": "code",
   "execution_count": 7,
   "metadata": {
    "collapsed": false
   },
   "outputs": [
    {
     "name": "stdout",
     "output_type": "stream",
     "text": [
      "TensorFlow Version: 1.1.0-rc0\n"
     ]
    },
    {
     "name": "stderr",
     "output_type": "stream",
     "text": [
      "/usr/local/lib/python3.5/dist-packages/ipykernel/__main__.py:14: UserWarning: No GPU found. Please use a GPU to train your neural network.\n"
     ]
    }
   ],
   "source": [
    "\"\"\"\n",
    "DON'T MODIFY ANYTHING IN THIS CELL\n",
    "\"\"\"\n",
    "from distutils.version import LooseVersion\n",
    "import warnings\n",
    "import tensorflow as tf\n",
    "\n",
    "# Check TensorFlow Version\n",
    "assert LooseVersion(tf.__version__) >= LooseVersion('1.0'), 'Please use TensorFlow version 1.0 or newer'\n",
    "print('TensorFlow Version: {}'.format(tf.__version__))\n",
    "\n",
    "# Check for a GPU\n",
    "if not tf.test.gpu_device_name():\n",
    "    warnings.warn('No GPU found. Please use a GPU to train your neural network.')\n",
    "else:\n",
    "    print('Default GPU Device: {}'.format(tf.test.gpu_device_name()))"
   ]
  },
  {
   "cell_type": "markdown",
   "metadata": {},
   "source": [
    "### Input\n",
    "Implement the `get_inputs()` function to create TF Placeholders for the Neural Network.  It should create the following placeholders:\n",
    "- Input text placeholder named \"input\" using the [TF Placeholder](https://www.tensorflow.org/api_docs/python/tf/placeholder) `name` parameter.\n",
    "- Targets placeholder\n",
    "- Learning Rate placeholder\n",
    "\n",
    "Return the placeholders in the following tuple `(Input, Targets, LearningRate)`"
   ]
  },
  {
   "cell_type": "code",
   "execution_count": 8,
   "metadata": {
    "collapsed": false,
    "deletable": true,
    "editable": true
   },
   "outputs": [
    {
     "name": "stdout",
     "output_type": "stream",
     "text": [
      "Tests Passed\n"
     ]
    }
   ],
   "source": [
    "def get_inputs():\n",
    "    \"\"\"\n",
    "    Create TF Placeholders for input, targets, and learning rate.\n",
    "    :return: Tuple (input, targets, learning rate)\n",
    "    \"\"\"\n",
    "    #input shape =[None, None] = [batch_sz, seq_len]\n",
    "    #if feeding embedded words: shape=[batch_sz, seq_len, embed_dim]\n",
    "    #We will be feeding 1 hot-encoded sentence\n",
    "    input = tf.placeholder(tf.int32, shape=[None, None], name=\"input\")\n",
    "    targets = tf.placeholder(tf.int32, shape=[None, None], name=\"targets\")\n",
    "    learning_rate = tf.placeholder(tf.float32, shape=[], name=\"learning_rate\") \n",
    "    # TODO: Implement Function\n",
    "    return (input, targets, learning_rate)\n",
    "\n",
    "\n",
    "\"\"\"\n",
    "DON'T MODIFY ANYTHING IN THIS CELL THAT IS BELOW THIS LINE\n",
    "\"\"\"\n",
    "tests.test_get_inputs(get_inputs)"
   ]
  },
  {
   "cell_type": "markdown",
   "metadata": {
    "deletable": true,
    "editable": true
   },
   "source": [
    "### Build RNN Cell and Initialize\n",
    "Stack one or more [`BasicLSTMCells`](https://www.tensorflow.org/api_docs/python/tf/contrib/rnn/BasicLSTMCell) in a [`MultiRNNCell`](https://www.tensorflow.org/api_docs/python/tf/contrib/rnn/MultiRNNCell).\n",
    "- The Rnn size should be set using `rnn_size`\n",
    "- Initalize Cell State using the MultiRNNCell's [`zero_state()`](https://www.tensorflow.org/api_docs/python/tf/contrib/rnn/MultiRNNCell#zero_state) function\n",
    "    - Apply the name \"initial_state\" to the initial state using [`tf.identity()`](https://www.tensorflow.org/api_docs/python/tf/identity)\n",
    "\n",
    "Return the cell and initial state in the following tuple `(Cell, InitialState)`"
   ]
  },
  {
   "cell_type": "code",
   "execution_count": 9,
   "metadata": {
    "collapsed": false,
    "deletable": true,
    "editable": true
   },
   "outputs": [
    {
     "name": "stdout",
     "output_type": "stream",
     "text": [
      "Tests Passed\n"
     ]
    }
   ],
   "source": [
    "def get_init_cell(batch_size, rnn_size):\n",
    "    \"\"\"\n",
    "    Create an RNN Cell and initialize it: w ejust define what the cells look like.\n",
    "    :param batch_size: Size of batches\n",
    "    :param rnn_size: Size of RNNs - Number of units in the hidden layers in the RNN\n",
    "    :return: Tuple (cell, initialize state)\n",
    "    \"\"\"\n",
    "    def build_subcell(rnn_size, keep_prob=0.5):\n",
    "        ### Build a single LSTM subCell\n",
    "        lstm = tf.contrib.rnn.BasicLSTMCell(rnn_size)\n",
    "        #we add dropout to the cell to prevent overfitting\n",
    "        #Wrap the cell in another cell but with dropout added to the output\n",
    "        drop = tf.contrib.rnn.DropoutWrapper(lstm, output_keep_prob=0.6)\n",
    "        return drop\n",
    "    \n",
    "    num_layers= 1\n",
    "    #Vertically Stacked RNN cells to improve performance: more parameters to learn more complex relationships\n",
    "    cell = tf.contrib.rnn.MultiRNNCell([build_subcell(rnn_size, keep_prob=0.6)])\n",
    "    #Initial state: Return zero-filled state tensor\n",
    "    #Shape: [batch_sz, rnn_size]\n",
    "    initial_state = tf.identity(cell.zero_state(batch_size, tf.float32),name=\"initial_state\")\n",
    "    return cell, initial_state\n",
    "\n",
    "\n",
    "\"\"\"\n",
    "DON'T MODIFY ANYTHING IN THIS CELL THAT IS BELOW THIS LINE\n",
    "\"\"\"\n",
    "tests.test_get_init_cell(get_init_cell)"
   ]
  },
  {
   "cell_type": "markdown",
   "metadata": {
    "deletable": true,
    "editable": true
   },
   "source": [
    "### Word Embedding\n",
    "Apply embedding to `input_data` using TensorFlow.  Return the embedded sequence."
   ]
  },
  {
   "cell_type": "code",
   "execution_count": 10,
   "metadata": {
    "collapsed": false,
    "deletable": true,
    "editable": true
   },
   "outputs": [
    {
     "name": "stdout",
     "output_type": "stream",
     "text": [
      "Tests Passed\n"
     ]
    }
   ],
   "source": [
    "def get_embed(input_data, vocab_size, embed_dim):\n",
    "    \"\"\"\n",
    "    Create embedding for <input_data>.\n",
    "    :param input_data: TF placeholder for text input.\n",
    "    :param vocab_size: Number of words in vocabulary.\n",
    "    :param embed_dim: Number of embedding dimensions\n",
    "    :return: Embedded input.\n",
    "    \"\"\"\n",
    "    #use trainable embedding layer to reduce the input data space from the size of the vocabulary to the embed_dim\n",
    "    #Create the embedding lookup matrix as a tf.Variable. \n",
    "    #Use that embedding matrix to get the embedded vectors to pass to the LSTM cell with tf.nn.embedding_lookup.\n",
    "    #Let's define our embedding matrix.\n",
    "    #This is just a big random matrix to start. We'll initialize the values to be uniform in the unit cube.\n",
    "    embedding = tf.Variable(tf.random_uniform([vocab_size, embed_dim], -1, 1))\n",
    "    #Now what we need to do is look up the vector for each of the source words in the batch.\n",
    "    embed = tf.nn.embedding_lookup(embedding, input_data)\n",
    "    return embed\n",
    "\n",
    "\n",
    "\"\"\"\n",
    "DON'T MODIFY ANYTHING IN THIS CELL THAT IS BELOW THIS LINE\n",
    "\"\"\"\n",
    "tests.test_get_embed(get_embed)"
   ]
  },
  {
   "cell_type": "markdown",
   "metadata": {
    "deletable": true,
    "editable": true
   },
   "source": [
    "### Build RNN\n",
    "You created a RNN Cell in the `get_init_cell()` function.  Time to use the cell to create a RNN.\n",
    "- Build the RNN using the [`tf.nn.dynamic_rnn()`](https://www.tensorflow.org/api_docs/python/tf/nn/dynamic_rnn)\n",
    " - Apply the name \"final_state\" to the final state using [`tf.identity()`](https://www.tensorflow.org/api_docs/python/tf/identity)\n",
    "\n",
    "Return the outputs and final_state state in the following tuple `(Outputs, FinalState)` \n",
    "\n",
    "tf.dynamic_rnn provides two outputs, outputs and state.\n",
    "\n",
    "* outputs contains the output of the RNN cell at every time instant. Assuming the default time_major == False, let's say you have an input composed of 10 examples with 7 time steps each and a feature vector of size 5 for every time step. Then your input would be 10x7x5 (batch_sizexmax_timexfeatures). Now you give this as an input to a RNN cell with output size 15. Conceptually, each time step of each example is input to the RNN, and you would get a 15-long vector for each of those. So that is what outputs contains, a tensor in this case of size 10x7x15 (batch_sizexmax_timexcell.output_size) with the output of the RNN cell at each time step. If you are only interested in the last output of the cell, you can just slice the time dimension to pick just the last element (e.g. outputs[:, -1, :]).\n",
    "* state contains the state of the RNN after processing all the inputs. Note that, unlike outputs, this doesn't contain information about every time step, but only about the last one (that is, the state after the last one). Depending on your case, the state may or may not be useful. For example, if you have very long sequences, you may not want/be able to processes them in a single batch, and you may need to split them into several subsequences. If you ignore the state, then whenever you give a new subsequence it will be as if you are beginning a new one; if you remember the state, however (e.g. outputting it or storing it in a variable), you can feed it back later (through the initial_state parameter of tf.nn.dynamic_rnn) in order to correctly keep track of the state of the RNN, and only reset it to the initial state (generally all zeros) after you have completed the whole sequences. The shape of state can vary depending on the RNN cell that you are using, but, in general, you have some state for each of the examples (one or more tensors with size batch_sizexstate_size, where state_size depends on the cell type and size)."
   ]
  },
  {
   "cell_type": "code",
   "execution_count": 11,
   "metadata": {
    "collapsed": false,
    "deletable": true,
    "editable": true
   },
   "outputs": [
    {
     "name": "stdout",
     "output_type": "stream",
     "text": [
      "Tests Passed\n"
     ]
    }
   ],
   "source": [
    "def build_rnn(cell, inputs):\n",
    "    \"\"\"\n",
    "    Create a RNN using a RNN Cell\n",
    "    :param cell: RNN Cell\n",
    "    :param inputs: Input text data\n",
    "    :return: Tuple (Outputs, Final State)\n",
    "    dynamic_rnn enables to performs dynamic computation over seq of variable length: \n",
    "    dynamically unwrapping the RNN ==> creating the RNN graph\n",
    "    \"\"\"\n",
    "    outputs, state = tf.nn.dynamic_rnn(cell, inputs, dtype='float32')\n",
    "    #Name the final state\n",
    "    final_state = tf.identity(state,name=\"final_state\")\n",
    "    \n",
    "    return (outputs, final_state)\n",
    "\n",
    "\n",
    "\"\"\"\n",
    "DON'T MODIFY ANYTHING IN THIS CELL THAT IS BELOW THIS LINE\n",
    "\"\"\"\n",
    "tests.test_build_rnn(build_rnn)"
   ]
  },
  {
   "cell_type": "markdown",
   "metadata": {
    "deletable": true,
    "editable": true
   },
   "source": [
    "### Build the Neural Network\n",
    "Apply the functions you implemented above to:\n",
    "- Apply embedding to `input_data` using your `get_embed(input_data, vocab_size, embed_dim)` function.\n",
    "- Build RNN using `cell` and your `build_rnn(cell, inputs)` function.\n",
    "- Apply a fully connected layer with a linear activation and `vocab_size` as the number of outputs.\n",
    "\n",
    "Return the logits and final state in the following tuple (Logits, FinalState) "
   ]
  },
  {
   "cell_type": "code",
   "execution_count": 12,
   "metadata": {
    "collapsed": false,
    "deletable": true,
    "editable": true
   },
   "outputs": [
    {
     "name": "stdout",
     "output_type": "stream",
     "text": [
      "Tests Passed\n"
     ]
    }
   ],
   "source": [
    "def build_nn(cell, rnn_size, input_data, vocab_size, embed_dim):\n",
    "    \"\"\"\n",
    "    Build part of the neural network\n",
    "    :param cell: RNN cell\n",
    "    :param rnn_size: Size of rnns\n",
    "    :param input_data: Input data\n",
    "    :param vocab_size: Vocabulary size\n",
    "    :param embed_dim: Number of embedding dimensions\n",
    "    :return: Tuple (Logits, FinalState)\n",
    "    \"\"\"\n",
    "    # TODO: Implement Function\n",
    "    #lookup individual word in embed matrix\n",
    "    embed = get_embed(input_data, vocab_size, embed_dim)\n",
    "    #use the set of embed vectors as inpit to the RNN\n",
    "    #collect outpouts and final_state\n",
    "    outputs, final_state = build_rnn(cell, embed)\n",
    "    #send output to FC layer (will use softmax next step to squash output)\n",
    "    #output will be a vector where each element is a Bernouilli distribution\n",
    "    logits = tf.contrib.layers.fully_connected(outputs, vocab_size, activation_fn=None, weights_initializer = tf.truncated_normal_initializer(stddev=0.1),\n",
    "                                               biases_initializer=tf.zeros_initializer())\n",
    "    \n",
    "    return (logits, final_state)\n",
    "\n",
    "\n",
    "\"\"\"\n",
    "DON'T MODIFY ANYTHING IN THIS CELL THAT IS BELOW THIS LINE\n",
    "\"\"\"\n",
    "tests.test_build_nn(build_nn)"
   ]
  },
  {
   "cell_type": "markdown",
   "metadata": {
    "deletable": true,
    "editable": true
   },
   "source": [
    "### Batches\n",
    "Implement `get_batches` to create batches of input and targets using `int_text`.  The batches should be a Numpy array with the shape `(number of batches, 2, batch size, sequence length)`. Each batch contains two elements:\n",
    "- The first element is a single batch of **input** with the shape `[batch size, sequence length]`\n",
    "- The second element is a single batch of **targets** with the shape `[batch size, sequence length]`\n",
    "\n",
    "If you can't fill the last batch with enough data, drop the last batch.\n",
    "\n",
    "For exmple, `get_batches([1, 2, 3, 4, 5, 6, 7, 8, 9, 10, 11, 12, 13, 14, 15, 16, 17, 18, 19, 20], 3, 2)` would return a Numpy array of the following:\n",
    "```\n",
    "[\n",
    "  # First Batch\n",
    "  [\n",
    "    # Batch of Input\n",
    "    [[ 1  2], [ 7  8], [13 14]]\n",
    "    # Batch of targets\n",
    "    [[ 2  3], [ 8  9], [14 15]]\n",
    "  ]\n",
    "\n",
    "  # Second Batch\n",
    "  [\n",
    "    # Batch of Input\n",
    "    [[ 3  4], [ 9 10], [15 16]]\n",
    "    # Batch of targets\n",
    "    [[ 4  5], [10 11], [16 17]]\n",
    "  ]\n",
    "\n",
    "  # Third Batch\n",
    "  [\n",
    "    # Batch of Input\n",
    "    [[ 5  6], [11 12], [17 18]]\n",
    "    # Batch of targets\n",
    "    [[ 6  7], [12 13], [18  1]]\n",
    "  ]\n",
    "]\n",
    "```\n",
    "\n",
    "Notice that the last target value in the last batch is the first input value of the first batch. In this case, `1`. This is a common technique used when creating sequence batches, although it is rather unintuitive."
   ]
  },
  {
   "cell_type": "code",
   "execution_count": 13,
   "metadata": {
    "collapsed": false,
    "deletable": true,
    "editable": true
   },
   "outputs": [
    {
     "name": "stdout",
     "output_type": "stream",
     "text": [
      "Tests Passed\n"
     ]
    }
   ],
   "source": [
    "def get_batches(int_text, batch_size, seq_length):\n",
    "    \"\"\"\n",
    "    Return batches of input and target\n",
    "    :param int_text: Text with the words replaced by their ids\n",
    "    :param batch_size: The size of batch\n",
    "    :param seq_length: The length of sequence\n",
    "    :return: Batches as a Numpy array\n",
    "    \"\"\"\n",
    "    # TODO: Implement Function\n",
    "    n_batches = int(len(int_text) / (batch_size * seq_length) )    \n",
    "    batches = np.zeros(shape = (n_batches, 2, batch_size, seq_length), dtype = np.int32)\n",
    "    for batch_id in range(n_batches):  \n",
    "        batch = np.zeros(shape = (2, batch_size, seq_length), dtype = np.int32)\n",
    "        batch_x = np.zeros(shape = (batch_size, seq_length), dtype = np.int32)\n",
    "        batch_y = np.zeros(shape = (batch_size, seq_length), dtype = np.int32)\n",
    "        for n in range(batch_size):\n",
    "            idx = batch_id * seq_length + n * n_batches * seq_length            \n",
    "            batch_x[n] = np.array([int_text[idx:idx+seq_length]])\n",
    "            batch_y[n] = np.array([int_text[idx+1:idx+seq_length+1]])\n",
    "            if batch_id == n_batches - 1:\n",
    "                batch_y[-1,-1] = int_text[0]\n",
    "        batch[0] = batch_x\n",
    "        batch[1] = batch_y\n",
    "        batches[batch_id] = batch\n",
    "            \n",
    "    return batches\n",
    "\n",
    "\n",
    "\"\"\"\n",
    "DON'T MODIFY ANYTHING IN THIS CELL THAT IS BELOW THIS LINE\n",
    "\"\"\"\n",
    "tests.test_get_batches(get_batches)"
   ]
  },
  {
   "cell_type": "markdown",
   "metadata": {
    "deletable": true,
    "editable": true
   },
   "source": [
    "## Neural Network Training\n",
    "### Hyperparameters\n",
    "Tune the following parameters:\n",
    "\n",
    "- Set `num_epochs` to the number of epochs.\n",
    "- Set `batch_size` to the batch size.\n",
    "- Set `rnn_size` to the size of the RNNs.\n",
    "- Set `embed_dim` to the size of the embedding.\n",
    "- Set `seq_length` to the length of sequence.\n",
    "- Set `learning_rate` to the learning rate.\n",
    "- Set `show_every_n_batches` to the number of batches the neural network should print progress."
   ]
  },
  {
   "cell_type": "code",
   "execution_count": 14,
   "metadata": {
    "collapsed": true,
    "deletable": true,
    "editable": true
   },
   "outputs": [],
   "source": [
    "# Number of Epochs\n",
    "num_epochs = 20\n",
    "# Batch Size\n",
    "batch_size = 256\n",
    "# RNN Size\n",
    "rnn_size = 1024\n",
    "# Embedding Dimension Size\n",
    "embed_dim = 250\n",
    "# Sequence Length\n",
    "seq_length = 10\n",
    "# Learning Rate\n",
    "learning_rate = 0.005\n",
    "# Show stats for every n number of batches\n",
    "show_every_n_batches = 1\n",
    "\n",
    "\"\"\"\n",
    "DON'T MODIFY ANYTHING IN THIS CELL THAT IS BELOW THIS LINE\n",
    "\"\"\"\n",
    "save_dir = './save'"
   ]
  },
  {
   "cell_type": "markdown",
   "metadata": {
    "deletable": true,
    "editable": true
   },
   "source": [
    "### Build the Graph\n",
    "Build the graph using the neural network you implemented."
   ]
  },
  {
   "cell_type": "code",
   "execution_count": 15,
   "metadata": {
    "collapsed": false,
    "deletable": true,
    "editable": true
   },
   "outputs": [],
   "source": [
    "\"\"\"\n",
    "DON'T MODIFY ANYTHING IN THIS CELL\n",
    "\"\"\"\n",
    "from tensorflow.contrib import seq2seq\n",
    "\n",
    "train_graph = tf.Graph()\n",
    "with train_graph.as_default():\n",
    "    vocab_size = len(int_to_vocab)\n",
    "    input_text, targets, lr = get_inputs()\n",
    "    input_data_shape = tf.shape(input_text)\n",
    "    cell, initial_state = get_init_cell(input_data_shape[0], rnn_size)\n",
    "    logits, final_state = build_nn(cell, rnn_size, input_text, vocab_size, embed_dim)\n",
    "\n",
    "    # Probabilities for generating words\n",
    "    probs = tf.nn.softmax(logits, name='probs')\n",
    "\n",
    "    # Loss function\n",
    "    cost = seq2seq.sequence_loss(\n",
    "        logits,\n",
    "        targets,\n",
    "        tf.ones([input_data_shape[0], input_data_shape[1]]))\n",
    "\n",
    "    # Optimizer\n",
    "    optimizer = tf.train.AdamOptimizer(lr)\n",
    "\n",
    "    # Gradient Clipping\n",
    "    gradients = optimizer.compute_gradients(cost)\n",
    "    capped_gradients = [(tf.clip_by_value(grad, -1., 1.), var) for grad, var in gradients if grad is not None]\n",
    "    train_op = optimizer.apply_gradients(capped_gradients)"
   ]
  },
  {
   "cell_type": "markdown",
   "metadata": {
    "deletable": true,
    "editable": true
   },
   "source": [
    "## Train\n",
    "Train the neural network on the preprocessed data.  If you have a hard time getting a good loss, check the [forums](https://discussions.udacity.com/) to see if anyone is having the same problem."
   ]
  },
  {
   "cell_type": "code",
   "execution_count": 16,
   "metadata": {
    "collapsed": false,
    "deletable": true,
    "editable": true
   },
   "outputs": [
    {
     "name": "stdout",
     "output_type": "stream",
     "text": [
      "Epoch   0 Batch    0/26   train_loss = 8.843\n",
      "Epoch   0 Batch    1/26   train_loss = 7.843\n",
      "Epoch   0 Batch    2/26   train_loss = 10.699\n",
      "Epoch   0 Batch    3/26   train_loss = 7.981\n",
      "Epoch   0 Batch    4/26   train_loss = 7.026\n",
      "Epoch   0 Batch    5/26   train_loss = 6.904\n",
      "Epoch   0 Batch    6/26   train_loss = 6.744\n",
      "Epoch   0 Batch    7/26   train_loss = 6.557\n",
      "Epoch   0 Batch    8/26   train_loss = 6.317\n",
      "Epoch   0 Batch    9/26   train_loss = 6.257\n",
      "Epoch   0 Batch   10/26   train_loss = 5.976\n",
      "Epoch   0 Batch   11/26   train_loss = 6.029\n",
      "Epoch   0 Batch   12/26   train_loss = 5.930\n",
      "Epoch   0 Batch   13/26   train_loss = 5.906\n",
      "Epoch   0 Batch   14/26   train_loss = 5.905\n",
      "Epoch   0 Batch   15/26   train_loss = 5.793\n",
      "Epoch   0 Batch   16/26   train_loss = 5.596\n",
      "Epoch   0 Batch   17/26   train_loss = 5.664\n",
      "Epoch   0 Batch   18/26   train_loss = 5.697\n",
      "Epoch   0 Batch   19/26   train_loss = 5.663\n",
      "Epoch   0 Batch   20/26   train_loss = 5.606\n",
      "Epoch   0 Batch   21/26   train_loss = 5.678\n",
      "Epoch   0 Batch   22/26   train_loss = 5.500\n",
      "Epoch   0 Batch   23/26   train_loss = 5.528\n",
      "Epoch   0 Batch   24/26   train_loss = 5.458\n",
      "Epoch   0 Batch   25/26   train_loss = 5.591\n",
      "Epoch   1 Batch    0/26   train_loss = 5.223\n",
      "Epoch   1 Batch    1/26   train_loss = 5.065\n",
      "Epoch   1 Batch    2/26   train_loss = 5.202\n",
      "Epoch   1 Batch    3/26   train_loss = 5.084\n",
      "Epoch   1 Batch    4/26   train_loss = 5.041\n",
      "Epoch   1 Batch    5/26   train_loss = 4.984\n",
      "Epoch   1 Batch    6/26   train_loss = 5.135\n",
      "Epoch   1 Batch    7/26   train_loss = 4.977\n",
      "Epoch   1 Batch    8/26   train_loss = 4.949\n",
      "Epoch   1 Batch    9/26   train_loss = 5.014\n",
      "Epoch   1 Batch   10/26   train_loss = 4.845\n",
      "Epoch   1 Batch   11/26   train_loss = 5.055\n",
      "Epoch   1 Batch   12/26   train_loss = 4.986\n",
      "Epoch   1 Batch   13/26   train_loss = 4.986\n",
      "Epoch   1 Batch   14/26   train_loss = 4.960\n",
      "Epoch   1 Batch   15/26   train_loss = 4.909\n",
      "Epoch   1 Batch   16/26   train_loss = 4.795\n",
      "Epoch   1 Batch   17/26   train_loss = 4.819\n",
      "Epoch   1 Batch   18/26   train_loss = 4.865\n",
      "Epoch   1 Batch   19/26   train_loss = 4.860\n",
      "Epoch   1 Batch   20/26   train_loss = 4.815\n",
      "Epoch   1 Batch   21/26   train_loss = 4.876\n",
      "Epoch   1 Batch   22/26   train_loss = 4.747\n",
      "Epoch   1 Batch   23/26   train_loss = 4.780\n",
      "Epoch   1 Batch   24/26   train_loss = 4.730\n",
      "Epoch   1 Batch   25/26   train_loss = 4.900\n",
      "Epoch   2 Batch    0/26   train_loss = 4.512\n",
      "Epoch   2 Batch    1/26   train_loss = 4.406\n",
      "Epoch   2 Batch    2/26   train_loss = 4.631\n",
      "Epoch   2 Batch    3/26   train_loss = 4.471\n",
      "Epoch   2 Batch    4/26   train_loss = 4.413\n",
      "Epoch   2 Batch    5/26   train_loss = 4.424\n",
      "Epoch   2 Batch    6/26   train_loss = 4.495\n",
      "Epoch   2 Batch    7/26   train_loss = 4.455\n",
      "Epoch   2 Batch    8/26   train_loss = 4.406\n",
      "Epoch   2 Batch    9/26   train_loss = 4.479\n",
      "Epoch   2 Batch   10/26   train_loss = 4.317\n",
      "Epoch   2 Batch   11/26   train_loss = 4.504\n",
      "Epoch   2 Batch   12/26   train_loss = 4.421\n",
      "Epoch   2 Batch   13/26   train_loss = 4.428\n",
      "Epoch   2 Batch   14/26   train_loss = 4.400\n",
      "Epoch   2 Batch   15/26   train_loss = 4.372\n",
      "Epoch   2 Batch   16/26   train_loss = 4.237\n",
      "Epoch   2 Batch   17/26   train_loss = 4.236\n",
      "Epoch   2 Batch   18/26   train_loss = 4.276\n",
      "Epoch   2 Batch   19/26   train_loss = 4.283\n",
      "Epoch   2 Batch   20/26   train_loss = 4.192\n",
      "Epoch   2 Batch   21/26   train_loss = 4.259\n",
      "Epoch   2 Batch   22/26   train_loss = 4.158\n",
      "Epoch   2 Batch   23/26   train_loss = 4.158\n",
      "Epoch   2 Batch   24/26   train_loss = 4.127\n",
      "Epoch   2 Batch   25/26   train_loss = 4.262\n",
      "Epoch   3 Batch    0/26   train_loss = 3.880\n",
      "Epoch   3 Batch    1/26   train_loss = 3.821\n",
      "Epoch   3 Batch    2/26   train_loss = 4.038\n",
      "Epoch   3 Batch    3/26   train_loss = 3.887\n",
      "Epoch   3 Batch    4/26   train_loss = 3.866\n",
      "Epoch   3 Batch    5/26   train_loss = 3.855\n",
      "Epoch   3 Batch    6/26   train_loss = 3.905\n",
      "Epoch   3 Batch    7/26   train_loss = 3.908\n",
      "Epoch   3 Batch    8/26   train_loss = 3.798\n",
      "Epoch   3 Batch    9/26   train_loss = 3.906\n",
      "Epoch   3 Batch   10/26   train_loss = 3.794\n",
      "Epoch   3 Batch   11/26   train_loss = 3.950\n",
      "Epoch   3 Batch   12/26   train_loss = 3.843\n",
      "Epoch   3 Batch   13/26   train_loss = 3.841\n",
      "Epoch   3 Batch   14/26   train_loss = 3.817\n",
      "Epoch   3 Batch   15/26   train_loss = 3.747\n",
      "Epoch   3 Batch   16/26   train_loss = 3.662\n",
      "Epoch   3 Batch   17/26   train_loss = 3.610\n",
      "Epoch   3 Batch   18/26   train_loss = 3.652\n",
      "Epoch   3 Batch   19/26   train_loss = 3.658\n",
      "Epoch   3 Batch   20/26   train_loss = 3.591\n",
      "Epoch   3 Batch   21/26   train_loss = 3.617\n",
      "Epoch   3 Batch   22/26   train_loss = 3.504\n",
      "Epoch   3 Batch   23/26   train_loss = 3.466\n",
      "Epoch   3 Batch   24/26   train_loss = 3.483\n",
      "Epoch   3 Batch   25/26   train_loss = 3.547\n",
      "Epoch   4 Batch    0/26   train_loss = 3.187\n",
      "Epoch   4 Batch    1/26   train_loss = 3.201\n",
      "Epoch   4 Batch    2/26   train_loss = 3.386\n",
      "Epoch   4 Batch    3/26   train_loss = 3.291\n",
      "Epoch   4 Batch    4/26   train_loss = 3.251\n",
      "Epoch   4 Batch    5/26   train_loss = 3.298\n",
      "Epoch   4 Batch    6/26   train_loss = 3.275\n",
      "Epoch   4 Batch    7/26   train_loss = 3.280\n",
      "Epoch   4 Batch    8/26   train_loss = 3.172\n",
      "Epoch   4 Batch    9/26   train_loss = 3.270\n",
      "Epoch   4 Batch   10/26   train_loss = 3.203\n",
      "Epoch   4 Batch   11/26   train_loss = 3.298\n",
      "Epoch   4 Batch   12/26   train_loss = 3.202\n",
      "Epoch   4 Batch   13/26   train_loss = 3.194\n",
      "Epoch   4 Batch   14/26   train_loss = 3.163\n",
      "Epoch   4 Batch   15/26   train_loss = 3.081\n",
      "Epoch   4 Batch   16/26   train_loss = 3.040\n",
      "Epoch   4 Batch   17/26   train_loss = 3.009\n",
      "Epoch   4 Batch   18/26   train_loss = 3.025\n",
      "Epoch   4 Batch   19/26   train_loss = 3.041\n",
      "Epoch   4 Batch   20/26   train_loss = 2.943\n",
      "Epoch   4 Batch   21/26   train_loss = 2.942\n",
      "Epoch   4 Batch   22/26   train_loss = 2.867\n",
      "Epoch   4 Batch   23/26   train_loss = 2.808\n",
      "Epoch   4 Batch   24/26   train_loss = 2.798\n",
      "Epoch   4 Batch   25/26   train_loss = 2.917\n",
      "Epoch   5 Batch    0/26   train_loss = 2.613\n",
      "Epoch   5 Batch    1/26   train_loss = 2.664\n",
      "Epoch   5 Batch    2/26   train_loss = 2.752\n",
      "Epoch   5 Batch    3/26   train_loss = 2.701\n",
      "Epoch   5 Batch    4/26   train_loss = 2.668\n",
      "Epoch   5 Batch    5/26   train_loss = 2.733\n",
      "Epoch   5 Batch    6/26   train_loss = 2.646\n",
      "Epoch   5 Batch    7/26   train_loss = 2.684\n",
      "Epoch   5 Batch    8/26   train_loss = 2.589\n",
      "Epoch   5 Batch    9/26   train_loss = 2.701\n",
      "Epoch   5 Batch   10/26   train_loss = 2.623\n",
      "Epoch   5 Batch   11/26   train_loss = 2.696\n",
      "Epoch   5 Batch   12/26   train_loss = 2.633\n",
      "Epoch   5 Batch   13/26   train_loss = 2.624\n",
      "Epoch   5 Batch   14/26   train_loss = 2.531\n",
      "Epoch   5 Batch   15/26   train_loss = 2.549\n",
      "Epoch   5 Batch   16/26   train_loss = 2.489\n",
      "Epoch   5 Batch   17/26   train_loss = 2.514\n",
      "Epoch   5 Batch   18/26   train_loss = 2.455\n",
      "Epoch   5 Batch   19/26   train_loss = 2.522\n",
      "Epoch   5 Batch   20/26   train_loss = 2.435\n",
      "Epoch   5 Batch   21/26   train_loss = 2.429\n",
      "Epoch   5 Batch   22/26   train_loss = 2.346\n",
      "Epoch   5 Batch   23/26   train_loss = 2.292\n",
      "Epoch   5 Batch   24/26   train_loss = 2.355\n",
      "Epoch   5 Batch   25/26   train_loss = 2.356\n",
      "Epoch   6 Batch    0/26   train_loss = 2.148\n",
      "Epoch   6 Batch    1/26   train_loss = 2.251\n",
      "Epoch   6 Batch    2/26   train_loss = 2.229\n",
      "Epoch   6 Batch    3/26   train_loss = 2.227\n",
      "Epoch   6 Batch    4/26   train_loss = 2.270\n",
      "Epoch   6 Batch    5/26   train_loss = 2.277\n",
      "Epoch   6 Batch    6/26   train_loss = 2.220\n",
      "Epoch   6 Batch    7/26   train_loss = 2.233\n",
      "Epoch   6 Batch    8/26   train_loss = 2.135\n",
      "Epoch   6 Batch    9/26   train_loss = 2.203\n",
      "Epoch   6 Batch   10/26   train_loss = 2.145\n",
      "Epoch   6 Batch   11/26   train_loss = 2.210\n",
      "Epoch   6 Batch   12/26   train_loss = 2.135\n",
      "Epoch   6 Batch   13/26   train_loss = 2.108\n",
      "Epoch   6 Batch   14/26   train_loss = 2.063\n",
      "Epoch   6 Batch   15/26   train_loss = 2.073\n",
      "Epoch   6 Batch   16/26   train_loss = 2.071\n",
      "Epoch   6 Batch   17/26   train_loss = 2.064\n",
      "Epoch   6 Batch   18/26   train_loss = 2.016\n",
      "Epoch   6 Batch   19/26   train_loss = 2.077\n",
      "Epoch   6 Batch   20/26   train_loss = 2.002\n",
      "Epoch   6 Batch   21/26   train_loss = 1.974\n",
      "Epoch   6 Batch   22/26   train_loss = 1.984\n",
      "Epoch   6 Batch   23/26   train_loss = 1.884\n",
      "Epoch   6 Batch   24/26   train_loss = 1.913\n",
      "Epoch   6 Batch   25/26   train_loss = 1.937\n",
      "Epoch   7 Batch    0/26   train_loss = 1.762\n",
      "Epoch   7 Batch    1/26   train_loss = 1.850\n",
      "Epoch   7 Batch    2/26   train_loss = 1.837\n",
      "Epoch   7 Batch    3/26   train_loss = 1.832\n",
      "Epoch   7 Batch    4/26   train_loss = 1.813\n",
      "Epoch   7 Batch    5/26   train_loss = 1.814\n",
      "Epoch   7 Batch    6/26   train_loss = 1.775\n",
      "Epoch   7 Batch    7/26   train_loss = 1.828\n",
      "Epoch   7 Batch    8/26   train_loss = 1.746\n",
      "Epoch   7 Batch    9/26   train_loss = 1.793\n",
      "Epoch   7 Batch   10/26   train_loss = 1.758\n",
      "Epoch   7 Batch   11/26   train_loss = 1.804\n",
      "Epoch   7 Batch   12/26   train_loss = 1.700\n",
      "Epoch   7 Batch   13/26   train_loss = 1.696\n",
      "Epoch   7 Batch   14/26   train_loss = 1.694\n",
      "Epoch   7 Batch   15/26   train_loss = 1.685\n",
      "Epoch   7 Batch   16/26   train_loss = 1.713\n",
      "Epoch   7 Batch   17/26   train_loss = 1.636\n",
      "Epoch   7 Batch   18/26   train_loss = 1.626\n",
      "Epoch   7 Batch   19/26   train_loss = 1.737\n",
      "Epoch   7 Batch   20/26   train_loss = 1.606\n",
      "Epoch   7 Batch   21/26   train_loss = 1.655\n",
      "Epoch   7 Batch   22/26   train_loss = 1.614\n",
      "Epoch   7 Batch   23/26   train_loss = 1.538\n",
      "Epoch   7 Batch   24/26   train_loss = 1.561\n",
      "Epoch   7 Batch   25/26   train_loss = 1.530\n",
      "Epoch   8 Batch    0/26   train_loss = 1.431\n",
      "Epoch   8 Batch    1/26   train_loss = 1.506\n",
      "Epoch   8 Batch    2/26   train_loss = 1.485\n",
      "Epoch   8 Batch    3/26   train_loss = 1.504\n",
      "Epoch   8 Batch    4/26   train_loss = 1.500\n",
      "Epoch   8 Batch    5/26   train_loss = 1.483\n",
      "Epoch   8 Batch    6/26   train_loss = 1.452\n",
      "Epoch   8 Batch    7/26   train_loss = 1.470\n",
      "Epoch   8 Batch    8/26   train_loss = 1.364\n",
      "Epoch   8 Batch    9/26   train_loss = 1.426\n",
      "Epoch   8 Batch   10/26   train_loss = 1.427\n",
      "Epoch   8 Batch   11/26   train_loss = 1.422\n",
      "Epoch   8 Batch   12/26   train_loss = 1.402\n",
      "Epoch   8 Batch   13/26   train_loss = 1.362\n",
      "Epoch   8 Batch   14/26   train_loss = 1.384\n",
      "Epoch   8 Batch   15/26   train_loss = 1.345\n",
      "Epoch   8 Batch   16/26   train_loss = 1.397\n",
      "Epoch   8 Batch   17/26   train_loss = 1.349\n",
      "Epoch   8 Batch   18/26   train_loss = 1.309\n",
      "Epoch   8 Batch   19/26   train_loss = 1.353\n",
      "Epoch   8 Batch   20/26   train_loss = 1.288\n",
      "Epoch   8 Batch   21/26   train_loss = 1.297\n",
      "Epoch   8 Batch   22/26   train_loss = 1.320\n",
      "Epoch   8 Batch   23/26   train_loss = 1.251\n",
      "Epoch   8 Batch   24/26   train_loss = 1.301\n",
      "Epoch   8 Batch   25/26   train_loss = 1.283\n",
      "Epoch   9 Batch    0/26   train_loss = 1.208\n",
      "Epoch   9 Batch    1/26   train_loss = 1.248\n",
      "Epoch   9 Batch    2/26   train_loss = 1.225\n",
      "Epoch   9 Batch    3/26   train_loss = 1.184\n",
      "Epoch   9 Batch    4/26   train_loss = 1.201\n",
      "Epoch   9 Batch    5/26   train_loss = 1.175\n",
      "Epoch   9 Batch    6/26   train_loss = 1.143\n",
      "Epoch   9 Batch    7/26   train_loss = 1.165\n",
      "Epoch   9 Batch    8/26   train_loss = 1.144\n",
      "Epoch   9 Batch    9/26   train_loss = 1.155\n",
      "Epoch   9 Batch   10/26   train_loss = 1.183\n",
      "Epoch   9 Batch   11/26   train_loss = 1.146\n",
      "Epoch   9 Batch   12/26   train_loss = 1.079\n",
      "Epoch   9 Batch   13/26   train_loss = 1.116\n",
      "Epoch   9 Batch   14/26   train_loss = 1.163\n",
      "Epoch   9 Batch   15/26   train_loss = 1.110\n",
      "Epoch   9 Batch   16/26   train_loss = 1.121\n",
      "Epoch   9 Batch   17/26   train_loss = 1.093\n",
      "Epoch   9 Batch   18/26   train_loss = 1.098\n",
      "Epoch   9 Batch   19/26   train_loss = 1.139\n",
      "Epoch   9 Batch   20/26   train_loss = 1.030\n",
      "Epoch   9 Batch   21/26   train_loss = 1.052\n",
      "Epoch   9 Batch   22/26   train_loss = 1.072\n",
      "Epoch   9 Batch   23/26   train_loss = 1.006\n",
      "Epoch   9 Batch   24/26   train_loss = 1.030\n",
      "Epoch   9 Batch   25/26   train_loss = 1.040\n",
      "Epoch  10 Batch    0/26   train_loss = 0.976\n",
      "Epoch  10 Batch    1/26   train_loss = 1.031\n",
      "Epoch  10 Batch    2/26   train_loss = 0.999\n",
      "Epoch  10 Batch    3/26   train_loss = 1.033\n",
      "Epoch  10 Batch    4/26   train_loss = 0.991\n",
      "Epoch  10 Batch    5/26   train_loss = 0.958\n",
      "Epoch  10 Batch    6/26   train_loss = 0.978\n",
      "Epoch  10 Batch    7/26   train_loss = 1.012\n",
      "Epoch  10 Batch    8/26   train_loss = 0.934\n",
      "Epoch  10 Batch    9/26   train_loss = 0.989\n",
      "Epoch  10 Batch   10/26   train_loss = 0.958\n",
      "Epoch  10 Batch   11/26   train_loss = 0.964\n",
      "Epoch  10 Batch   12/26   train_loss = 0.936\n",
      "Epoch  10 Batch   13/26   train_loss = 0.918\n",
      "Epoch  10 Batch   14/26   train_loss = 0.935\n",
      "Epoch  10 Batch   15/26   train_loss = 0.928\n",
      "Epoch  10 Batch   16/26   train_loss = 0.923\n",
      "Epoch  10 Batch   17/26   train_loss = 0.902\n",
      "Epoch  10 Batch   18/26   train_loss = 0.906\n",
      "Epoch  10 Batch   19/26   train_loss = 0.927\n",
      "Epoch  10 Batch   20/26   train_loss = 0.854\n",
      "Epoch  10 Batch   21/26   train_loss = 0.879\n",
      "Epoch  10 Batch   22/26   train_loss = 0.874\n",
      "Epoch  10 Batch   23/26   train_loss = 0.827\n",
      "Epoch  10 Batch   24/26   train_loss = 0.879\n",
      "Epoch  10 Batch   25/26   train_loss = 0.870\n",
      "Epoch  11 Batch    0/26   train_loss = 0.806\n",
      "Epoch  11 Batch    1/26   train_loss = 0.887\n",
      "Epoch  11 Batch    2/26   train_loss = 0.849\n",
      "Epoch  11 Batch    3/26   train_loss = 0.835\n",
      "Epoch  11 Batch    4/26   train_loss = 0.851\n",
      "Epoch  11 Batch    5/26   train_loss = 0.833\n",
      "Epoch  11 Batch    6/26   train_loss = 0.808\n",
      "Epoch  11 Batch    7/26   train_loss = 0.866\n",
      "Epoch  11 Batch    8/26   train_loss = 0.795\n",
      "Epoch  11 Batch    9/26   train_loss = 0.825\n",
      "Epoch  11 Batch   10/26   train_loss = 0.812\n",
      "Epoch  11 Batch   11/26   train_loss = 0.800\n",
      "Epoch  11 Batch   12/26   train_loss = 0.781\n",
      "Epoch  11 Batch   13/26   train_loss = 0.777\n",
      "Epoch  11 Batch   14/26   train_loss = 0.807\n",
      "Epoch  11 Batch   15/26   train_loss = 0.792\n",
      "Epoch  11 Batch   16/26   train_loss = 0.805\n",
      "Epoch  11 Batch   17/26   train_loss = 0.799\n",
      "Epoch  11 Batch   18/26   train_loss = 0.786\n",
      "Epoch  11 Batch   19/26   train_loss = 0.816\n",
      "Epoch  11 Batch   20/26   train_loss = 0.771\n",
      "Epoch  11 Batch   21/26   train_loss = 0.792\n",
      "Epoch  11 Batch   22/26   train_loss = 0.746\n",
      "Epoch  11 Batch   23/26   train_loss = 0.733\n",
      "Epoch  11 Batch   24/26   train_loss = 0.742\n",
      "Epoch  11 Batch   25/26   train_loss = 0.721\n",
      "Epoch  12 Batch    0/26   train_loss = 0.719\n",
      "Epoch  12 Batch    1/26   train_loss = 0.755\n",
      "Epoch  12 Batch    2/26   train_loss = 0.734\n",
      "Epoch  12 Batch    3/26   train_loss = 0.729\n",
      "Epoch  12 Batch    4/26   train_loss = 0.746\n",
      "Epoch  12 Batch    5/26   train_loss = 0.705\n",
      "Epoch  12 Batch    6/26   train_loss = 0.736\n",
      "Epoch  12 Batch    7/26   train_loss = 0.760\n",
      "Epoch  12 Batch    8/26   train_loss = 0.718\n",
      "Epoch  12 Batch    9/26   train_loss = 0.757\n",
      "Epoch  12 Batch   10/26   train_loss = 0.724\n",
      "Epoch  12 Batch   11/26   train_loss = 0.718\n",
      "Epoch  12 Batch   12/26   train_loss = 0.707\n",
      "Epoch  12 Batch   13/26   train_loss = 0.696\n",
      "Epoch  12 Batch   14/26   train_loss = 0.715\n",
      "Epoch  12 Batch   15/26   train_loss = 0.684\n",
      "Epoch  12 Batch   16/26   train_loss = 0.734\n",
      "Epoch  12 Batch   17/26   train_loss = 0.691\n",
      "Epoch  12 Batch   18/26   train_loss = 0.697\n",
      "Epoch  12 Batch   19/26   train_loss = 0.722\n",
      "Epoch  12 Batch   20/26   train_loss = 0.703\n",
      "Epoch  12 Batch   21/26   train_loss = 0.708\n",
      "Epoch  12 Batch   22/26   train_loss = 0.674\n",
      "Epoch  12 Batch   23/26   train_loss = 0.674\n",
      "Epoch  12 Batch   24/26   train_loss = 0.668\n",
      "Epoch  12 Batch   25/26   train_loss = 0.683\n",
      "Epoch  13 Batch    0/26   train_loss = 0.642\n",
      "Epoch  13 Batch    1/26   train_loss = 0.696\n",
      "Epoch  13 Batch    2/26   train_loss = 0.682\n",
      "Epoch  13 Batch    3/26   train_loss = 0.657\n",
      "Epoch  13 Batch    4/26   train_loss = 0.669\n",
      "Epoch  13 Batch    5/26   train_loss = 0.675\n",
      "Epoch  13 Batch    6/26   train_loss = 0.657\n",
      "Epoch  13 Batch    7/26   train_loss = 0.662\n",
      "Epoch  13 Batch    8/26   train_loss = 0.636\n",
      "Epoch  13 Batch    9/26   train_loss = 0.687\n",
      "Epoch  13 Batch   10/26   train_loss = 0.665\n",
      "Epoch  13 Batch   11/26   train_loss = 0.688\n",
      "Epoch  13 Batch   12/26   train_loss = 0.646\n",
      "Epoch  13 Batch   13/26   train_loss = 0.617\n",
      "Epoch  13 Batch   14/26   train_loss = 0.641\n",
      "Epoch  13 Batch   15/26   train_loss = 0.639\n",
      "Epoch  13 Batch   16/26   train_loss = 0.660\n",
      "Epoch  13 Batch   17/26   train_loss = 0.653\n",
      "Epoch  13 Batch   18/26   train_loss = 0.634\n",
      "Epoch  13 Batch   19/26   train_loss = 0.664\n",
      "Epoch  13 Batch   20/26   train_loss = 0.637\n",
      "Epoch  13 Batch   21/26   train_loss = 0.691\n",
      "Epoch  13 Batch   22/26   train_loss = 0.606\n",
      "Epoch  13 Batch   23/26   train_loss = 0.630\n",
      "Epoch  13 Batch   24/26   train_loss = 0.614\n",
      "Epoch  13 Batch   25/26   train_loss = 0.630\n",
      "Epoch  14 Batch    0/26   train_loss = 0.581\n",
      "Epoch  14 Batch    1/26   train_loss = 0.641\n",
      "Epoch  14 Batch    2/26   train_loss = 0.615\n",
      "Epoch  14 Batch    3/26   train_loss = 0.605\n",
      "Epoch  14 Batch    4/26   train_loss = 0.632\n",
      "Epoch  14 Batch    5/26   train_loss = 0.611\n",
      "Epoch  14 Batch    6/26   train_loss = 0.643\n",
      "Epoch  14 Batch    7/26   train_loss = 0.632\n",
      "Epoch  14 Batch    8/26   train_loss = 0.609\n",
      "Epoch  14 Batch    9/26   train_loss = 0.629\n",
      "Epoch  14 Batch   10/26   train_loss = 0.598\n",
      "Epoch  14 Batch   11/26   train_loss = 0.645\n",
      "Epoch  14 Batch   12/26   train_loss = 0.597\n",
      "Epoch  14 Batch   13/26   train_loss = 0.579\n",
      "Epoch  14 Batch   14/26   train_loss = 0.620\n",
      "Epoch  14 Batch   15/26   train_loss = 0.621\n",
      "Epoch  14 Batch   16/26   train_loss = 0.630\n",
      "Epoch  14 Batch   17/26   train_loss = 0.606\n",
      "Epoch  14 Batch   18/26   train_loss = 0.616\n",
      "Epoch  14 Batch   19/26   train_loss = 0.608\n",
      "Epoch  14 Batch   20/26   train_loss = 0.611\n",
      "Epoch  14 Batch   21/26   train_loss = 0.586\n",
      "Epoch  14 Batch   22/26   train_loss = 0.595\n",
      "Epoch  14 Batch   23/26   train_loss = 0.582\n",
      "Epoch  14 Batch   24/26   train_loss = 0.584\n",
      "Epoch  14 Batch   25/26   train_loss = 0.591\n",
      "Epoch  15 Batch    0/26   train_loss = 0.549\n",
      "Epoch  15 Batch    1/26   train_loss = 0.588\n",
      "Epoch  15 Batch    2/26   train_loss = 0.577\n",
      "Epoch  15 Batch    3/26   train_loss = 0.598\n",
      "Epoch  15 Batch    4/26   train_loss = 0.593\n",
      "Epoch  15 Batch    5/26   train_loss = 0.585\n",
      "Epoch  15 Batch    6/26   train_loss = 0.596\n",
      "Epoch  15 Batch    7/26   train_loss = 0.583\n",
      "Epoch  15 Batch    8/26   train_loss = 0.564\n",
      "Epoch  15 Batch    9/26   train_loss = 0.616\n",
      "Epoch  15 Batch   10/26   train_loss = 0.570\n",
      "Epoch  15 Batch   11/26   train_loss = 0.593\n",
      "Epoch  15 Batch   12/26   train_loss = 0.559\n",
      "Epoch  15 Batch   13/26   train_loss = 0.540\n",
      "Epoch  15 Batch   14/26   train_loss = 0.587\n",
      "Epoch  15 Batch   15/26   train_loss = 0.575\n",
      "Epoch  15 Batch   16/26   train_loss = 0.579\n",
      "Epoch  15 Batch   17/26   train_loss = 0.577\n",
      "Epoch  15 Batch   18/26   train_loss = 0.584\n",
      "Epoch  15 Batch   19/26   train_loss = 0.580\n",
      "Epoch  15 Batch   20/26   train_loss = 0.577\n",
      "Epoch  15 Batch   21/26   train_loss = 0.591\n",
      "Epoch  15 Batch   22/26   train_loss = 0.548\n",
      "Epoch  15 Batch   23/26   train_loss = 0.572\n",
      "Epoch  15 Batch   24/26   train_loss = 0.545\n",
      "Epoch  15 Batch   25/26   train_loss = 0.567\n",
      "Epoch  16 Batch    0/26   train_loss = 0.510\n",
      "Epoch  16 Batch    1/26   train_loss = 0.567\n",
      "Epoch  16 Batch    2/26   train_loss = 0.575\n",
      "Epoch  16 Batch    3/26   train_loss = 0.553\n",
      "Epoch  16 Batch    4/26   train_loss = 0.559\n",
      "Epoch  16 Batch    5/26   train_loss = 0.547\n",
      "Epoch  16 Batch    6/26   train_loss = 0.579\n",
      "Epoch  16 Batch    7/26   train_loss = 0.562\n",
      "Epoch  16 Batch    8/26   train_loss = 0.546\n",
      "Epoch  16 Batch    9/26   train_loss = 0.590\n",
      "Epoch  16 Batch   10/26   train_loss = 0.532\n",
      "Epoch  16 Batch   11/26   train_loss = 0.573\n",
      "Epoch  16 Batch   12/26   train_loss = 0.528\n",
      "Epoch  16 Batch   13/26   train_loss = 0.525\n",
      "Epoch  16 Batch   14/26   train_loss = 0.574\n",
      "Epoch  16 Batch   15/26   train_loss = 0.550\n",
      "Epoch  16 Batch   16/26   train_loss = 0.576\n",
      "Epoch  16 Batch   17/26   train_loss = 0.544\n",
      "Epoch  16 Batch   18/26   train_loss = 0.557\n",
      "Epoch  16 Batch   19/26   train_loss = 0.543\n",
      "Epoch  16 Batch   20/26   train_loss = 0.565\n",
      "Epoch  16 Batch   21/26   train_loss = 0.562\n",
      "Epoch  16 Batch   22/26   train_loss = 0.536\n",
      "Epoch  16 Batch   23/26   train_loss = 0.550\n",
      "Epoch  16 Batch   24/26   train_loss = 0.548\n",
      "Epoch  16 Batch   25/26   train_loss = 0.559\n",
      "Epoch  17 Batch    0/26   train_loss = 0.504\n",
      "Epoch  17 Batch    1/26   train_loss = 0.536\n",
      "Epoch  17 Batch    2/26   train_loss = 0.557\n",
      "Epoch  17 Batch    3/26   train_loss = 0.546\n",
      "Epoch  17 Batch    4/26   train_loss = 0.552\n",
      "Epoch  17 Batch    5/26   train_loss = 0.541\n",
      "Epoch  17 Batch    6/26   train_loss = 0.539\n",
      "Epoch  17 Batch    7/26   train_loss = 0.534\n",
      "Epoch  17 Batch    8/26   train_loss = 0.515\n",
      "Epoch  17 Batch    9/26   train_loss = 0.573\n",
      "Epoch  17 Batch   10/26   train_loss = 0.522\n",
      "Epoch  17 Batch   11/26   train_loss = 0.547\n",
      "Epoch  17 Batch   12/26   train_loss = 0.515\n",
      "Epoch  17 Batch   13/26   train_loss = 0.506\n",
      "Epoch  17 Batch   14/26   train_loss = 0.553\n",
      "Epoch  17 Batch   15/26   train_loss = 0.540\n",
      "Epoch  17 Batch   16/26   train_loss = 0.543\n",
      "Epoch  17 Batch   17/26   train_loss = 0.545\n",
      "Epoch  17 Batch   18/26   train_loss = 0.535\n",
      "Epoch  17 Batch   19/26   train_loss = 0.541\n",
      "Epoch  17 Batch   20/26   train_loss = 0.535\n",
      "Epoch  17 Batch   21/26   train_loss = 0.560\n",
      "Epoch  17 Batch   22/26   train_loss = 0.518\n",
      "Epoch  17 Batch   23/26   train_loss = 0.520\n",
      "Epoch  17 Batch   24/26   train_loss = 0.530\n",
      "Epoch  17 Batch   25/26   train_loss = 0.507\n",
      "Epoch  18 Batch    0/26   train_loss = 0.475\n",
      "Epoch  18 Batch    1/26   train_loss = 0.534\n",
      "Epoch  18 Batch    2/26   train_loss = 0.536\n",
      "Epoch  18 Batch    3/26   train_loss = 0.517\n",
      "Epoch  18 Batch    4/26   train_loss = 0.514\n",
      "Epoch  18 Batch    5/26   train_loss = 0.532\n",
      "Epoch  18 Batch    6/26   train_loss = 0.530\n",
      "Epoch  18 Batch    7/26   train_loss = 0.513\n",
      "Epoch  18 Batch    8/26   train_loss = 0.539\n",
      "Epoch  18 Batch    9/26   train_loss = 0.542\n",
      "Epoch  18 Batch   10/26   train_loss = 0.502\n",
      "Epoch  18 Batch   11/26   train_loss = 0.547\n",
      "Epoch  18 Batch   12/26   train_loss = 0.504\n",
      "Epoch  18 Batch   13/26   train_loss = 0.503\n",
      "Epoch  18 Batch   14/26   train_loss = 0.533\n",
      "Epoch  18 Batch   15/26   train_loss = 0.516\n",
      "Epoch  18 Batch   16/26   train_loss = 0.518\n",
      "Epoch  18 Batch   17/26   train_loss = 0.527\n",
      "Epoch  18 Batch   18/26   train_loss = 0.521\n",
      "Epoch  18 Batch   19/26   train_loss = 0.519\n",
      "Epoch  18 Batch   20/26   train_loss = 0.524\n",
      "Epoch  18 Batch   21/26   train_loss = 0.513\n",
      "Epoch  18 Batch   22/26   train_loss = 0.500\n",
      "Epoch  18 Batch   23/26   train_loss = 0.527\n",
      "Epoch  18 Batch   24/26   train_loss = 0.490\n",
      "Epoch  18 Batch   25/26   train_loss = 0.507\n",
      "Epoch  19 Batch    0/26   train_loss = 0.486\n",
      "Epoch  19 Batch    1/26   train_loss = 0.509\n",
      "Epoch  19 Batch    2/26   train_loss = 0.507\n",
      "Epoch  19 Batch    3/26   train_loss = 0.506\n",
      "Epoch  19 Batch    4/26   train_loss = 0.517\n",
      "Epoch  19 Batch    5/26   train_loss = 0.509\n",
      "Epoch  19 Batch    6/26   train_loss = 0.530\n",
      "Epoch  19 Batch    7/26   train_loss = 0.518\n",
      "Epoch  19 Batch    8/26   train_loss = 0.483\n",
      "Epoch  19 Batch    9/26   train_loss = 0.541\n",
      "Epoch  19 Batch   10/26   train_loss = 0.477\n",
      "Epoch  19 Batch   11/26   train_loss = 0.518\n",
      "Epoch  19 Batch   12/26   train_loss = 0.497\n",
      "Epoch  19 Batch   13/26   train_loss = 0.487\n",
      "Epoch  19 Batch   14/26   train_loss = 0.519\n",
      "Epoch  19 Batch   15/26   train_loss = 0.505\n",
      "Epoch  19 Batch   16/26   train_loss = 0.536\n",
      "Epoch  19 Batch   17/26   train_loss = 0.522\n",
      "Epoch  19 Batch   18/26   train_loss = 0.511\n",
      "Epoch  19 Batch   19/26   train_loss = 0.512\n",
      "Epoch  19 Batch   20/26   train_loss = 0.525\n",
      "Epoch  19 Batch   21/26   train_loss = 0.526\n",
      "Epoch  19 Batch   22/26   train_loss = 0.466\n",
      "Epoch  19 Batch   23/26   train_loss = 0.483\n",
      "Epoch  19 Batch   24/26   train_loss = 0.499\n",
      "Epoch  19 Batch   25/26   train_loss = 0.482\n",
      "Model Trained and Saved\n"
     ]
    }
   ],
   "source": [
    "\"\"\"\n",
    "DON'T MODIFY ANYTHING IN THIS CELL\n",
    "\"\"\"\n",
    "batches = get_batches(int_text, batch_size, seq_length)\n",
    "\n",
    "with tf.Session(graph=train_graph) as sess:\n",
    "    sess.run(tf.global_variables_initializer())\n",
    "\n",
    "    for epoch_i in range(num_epochs):\n",
    "        state = sess.run(initial_state, {input_text: batches[0][0]})\n",
    "\n",
    "        for batch_i, (x, y) in enumerate(batches):\n",
    "            feed = {\n",
    "                input_text: x,\n",
    "                targets: y,\n",
    "                initial_state: state,\n",
    "                lr: learning_rate}\n",
    "            train_loss, state, _ = sess.run([cost, final_state, train_op], feed)\n",
    "\n",
    "            # Show every <show_every_n_batches> batches\n",
    "            if (epoch_i * len(batches) + batch_i) % show_every_n_batches == 0:\n",
    "                print('Epoch {:>3} Batch {:>4}/{}   train_loss = {:.3f}'.format(\n",
    "                    epoch_i,\n",
    "                    batch_i,\n",
    "                    len(batches),\n",
    "                    train_loss))\n",
    "\n",
    "    # Save Model\n",
    "    saver = tf.train.Saver()\n",
    "    saver.save(sess, save_dir)\n",
    "    print('Model Trained and Saved')"
   ]
  },
  {
   "cell_type": "markdown",
   "metadata": {
    "deletable": true,
    "editable": true
   },
   "source": [
    "## Save Parameters\n",
    "Save `seq_length` and `save_dir` for generating a new TV script."
   ]
  },
  {
   "cell_type": "code",
   "execution_count": 17,
   "metadata": {
    "collapsed": false,
    "deletable": true,
    "editable": true
   },
   "outputs": [],
   "source": [
    "\"\"\"\n",
    "DON'T MODIFY ANYTHING IN THIS CELL\n",
    "\"\"\"\n",
    "# Save parameters for checkpoint\n",
    "helper.save_params((seq_length, save_dir))"
   ]
  },
  {
   "cell_type": "markdown",
   "metadata": {
    "deletable": true,
    "editable": true
   },
   "source": [
    "# Checkpoint"
   ]
  },
  {
   "cell_type": "code",
   "execution_count": 18,
   "metadata": {
    "collapsed": false,
    "deletable": true,
    "editable": true
   },
   "outputs": [],
   "source": [
    "\"\"\"\n",
    "DON'T MODIFY ANYTHING IN THIS CELL\n",
    "\"\"\"\n",
    "import tensorflow as tf\n",
    "import numpy as np\n",
    "import helper\n",
    "import problem_unittests as tests\n",
    "\n",
    "_, vocab_to_int, int_to_vocab, token_dict = helper.load_preprocess()\n",
    "seq_length, load_dir = helper.load_params()"
   ]
  },
  {
   "cell_type": "markdown",
   "metadata": {
    "deletable": true,
    "editable": true
   },
   "source": [
    "## Implement Generate Functions\n",
    "### Get Tensors\n",
    "Get tensors from `loaded_graph` using the function [`get_tensor_by_name()`](https://www.tensorflow.org/api_docs/python/tf/Graph#get_tensor_by_name).  Get the tensors using the following names:\n",
    "- \"input:0\"\n",
    "- \"initial_state:0\"\n",
    "- \"final_state:0\"\n",
    "- \"probs:0\"\n",
    "\n",
    "Return the tensors in the following tuple `(InputTensor, InitialStateTensor, FinalStateTensor, ProbsTensor)` "
   ]
  },
  {
   "cell_type": "code",
   "execution_count": 19,
   "metadata": {
    "collapsed": false,
    "deletable": true,
    "editable": true
   },
   "outputs": [
    {
     "name": "stdout",
     "output_type": "stream",
     "text": [
      "Tests Passed\n"
     ]
    }
   ],
   "source": [
    "def get_tensors(loaded_graph):\n",
    "    \"\"\"\n",
    "    Get input, initial state, final state, and probabilities tensor from <loaded_graph>\n",
    "    :param loaded_graph: TensorFlow graph loaded from file\n",
    "    :return: Tuple (InputTensor, InitialStateTensor, FinalStateTensor, ProbsTensor)\n",
    "    \"\"\"\n",
    "    InputTensor = loaded_graph.get_tensor_by_name(\"input:0\")\n",
    "    InitialStateTensor = loaded_graph.get_tensor_by_name(\"initial_state:0\") \n",
    "    FinalStateTensor = loaded_graph.get_tensor_by_name(\"final_state:0\") \n",
    "    ProbsTensor = loaded_graph.get_tensor_by_name(\"probs:0\") \n",
    "    return (InputTensor, InitialStateTensor, FinalStateTensor, ProbsTensor)\n",
    "\n",
    "\n",
    "\"\"\"\n",
    "DON'T MODIFY ANYTHING IN THIS CELL THAT IS BELOW THIS LINE\n",
    "\"\"\"\n",
    "tests.test_get_tensors(get_tensors)"
   ]
  },
  {
   "cell_type": "markdown",
   "metadata": {
    "deletable": true,
    "editable": true
   },
   "source": [
    "### Choose Word\n",
    "Implement the `pick_word()` function to select the next word using `probabilities`."
   ]
  },
  {
   "cell_type": "code",
   "execution_count": 20,
   "metadata": {
    "collapsed": false,
    "deletable": true,
    "editable": true
   },
   "outputs": [
    {
     "name": "stdout",
     "output_type": "stream",
     "text": [
      "Tests Passed\n"
     ]
    }
   ],
   "source": [
    "def pick_word(probabilities, int_to_vocab):\n",
    "    \"\"\"\n",
    "    Pick the next word in the generated text\n",
    "    :param probabilities: Probabilites of the next word\n",
    "    :param int_to_vocab: Dictionary of word ids as the keys and words as the values\n",
    "    :return: String of the predicted word\n",
    "    \"\"\"\n",
    "    # TODO: Implement Function\n",
    "    id_next_word = np.argmax(probabilities)\n",
    "    \n",
    "    return int_to_vocab[id_next_word]\n",
    "\n",
    "\n",
    "\"\"\"\n",
    "DON'T MODIFY ANYTHING IN THIS CELL THAT IS BELOW THIS LINE\n",
    "\"\"\"\n",
    "tests.test_pick_word(pick_word)"
   ]
  },
  {
   "cell_type": "markdown",
   "metadata": {
    "deletable": true,
    "editable": true
   },
   "source": [
    "## Generate TV Script\n",
    "This will generate the TV script for you.  Set `gen_length` to the length of TV script you want to generate."
   ]
  },
  {
   "cell_type": "code",
   "execution_count": 21,
   "metadata": {
    "collapsed": false,
    "deletable": true,
    "editable": true
   },
   "outputs": [
    {
     "name": "stdout",
     "output_type": "stream",
     "text": [
      "INFO:tensorflow:Restoring parameters from ./save\n",
      "moe_szyslak:(scornful) bye weeks. bronco nagurski didn't get back to the latin grammys.\n",
      "homer_simpson:(coming to) huh?...(points head)\n",
      "moe_szyslak:(to self) oh, i can't say to the greatest.\n",
      "homer_simpson: well, i was the wrong thing.\n",
      "homer_simpson:(quiet) yeah, that broad! you was me!\n",
      "c. _montgomery_burns:(reading)\"...\"\n",
      "moe_szyslak: ahh., homer, you're right. you're way ahead in your drunkening.\n",
      "homer_simpson:(dramatically) i want you to meet a frenchman, where you do?\n",
      "moe_szyslak:(\" duh\") refreshingness over effervescence, moe. where's that waitress of yours?\n",
      "professor_jonathan_frink: the trolls are us, moe.\n",
      "moe_szyslak:(clears throat) and now, marge is a girl body a rat.\n",
      "carl_carlson:(competitive) i can jump off the back.\n",
      "lenny_leonard: ooh, i'm sorry. / moe! / etc.\n",
      "moe_szyslak:(into phone) pleasure doing bart with me!\n",
      "moe_szyslak:\n"
     ]
    }
   ],
   "source": [
    "gen_length = 200\n",
    "# homer_simpson, moe_szyslak, or Barney_Gumble\n",
    "prime_word = 'moe_szyslak'\n",
    "\n",
    "\"\"\"\n",
    "DON'T MODIFY ANYTHING IN THIS CELL THAT IS BELOW THIS LINE\n",
    "\"\"\"\n",
    "loaded_graph = tf.Graph()\n",
    "with tf.Session(graph=loaded_graph) as sess:\n",
    "    # Load saved model\n",
    "    loader = tf.train.import_meta_graph(load_dir + '.meta')\n",
    "    loader.restore(sess, load_dir)\n",
    "\n",
    "    # Get Tensors from loaded model\n",
    "    input_text, initial_state, final_state, probs = get_tensors(loaded_graph)\n",
    "\n",
    "    # Sentences generation setup\n",
    "    gen_sentences = [prime_word + ':']\n",
    "    prev_state = sess.run(initial_state, {input_text: np.array([[1]])})\n",
    "\n",
    "    # Generate sentences\n",
    "    for n in range(gen_length):\n",
    "        # Dynamic Input\n",
    "        dyn_input = [[vocab_to_int[word] for word in gen_sentences[-seq_length:]]]\n",
    "        dyn_seq_length = len(dyn_input[0])\n",
    "\n",
    "        # Get Prediction\n",
    "        probabilities, prev_state = sess.run(\n",
    "            [probs, final_state],\n",
    "            {input_text: dyn_input, initial_state: prev_state})\n",
    "        \n",
    "        pred_word = pick_word(probabilities[dyn_seq_length-1], int_to_vocab)\n",
    "\n",
    "        gen_sentences.append(pred_word)\n",
    "    \n",
    "    # Remove tokens\n",
    "    tv_script = ' '.join(gen_sentences)\n",
    "    for key, token in token_dict.items():\n",
    "        ending = ' ' if key in ['\\n', '(', '\"'] else ''\n",
    "        tv_script = tv_script.replace(' ' + token.lower(), key)\n",
    "    tv_script = tv_script.replace('\\n ', '\\n')\n",
    "    tv_script = tv_script.replace('( ', '(')\n",
    "        \n",
    "    print(tv_script)"
   ]
  },
  {
   "cell_type": "markdown",
   "metadata": {
    "deletable": true,
    "editable": true
   },
   "source": [
    "# The TV Script is Nonsensical\n",
    "It's ok if the TV script doesn't make any sense.  We trained on less than a megabyte of text.  In order to get good results, you'll have to use a smaller vocabulary or get more data.  Luckly there's more data!  As we mentioned in the begging of this project, this is a subset of [another dataset](https://www.kaggle.com/wcukierski/the-simpsons-by-the-data).  We didn't have you train on all the data, because that would take too long.  However, you are free to train your neural network on all the data.  After you complete the project, of course.\n",
    "# Submitting This Project\n",
    "When submitting this project, make sure to run all the cells before saving the notebook. Save the notebook file as \"dlnd_tv_script_generation.ipynb\" and save it as a HTML file under \"File\" -> \"Download as\". Include the \"helper.py\" and \"problem_unittests.py\" files in your submission."
   ]
  },
  {
   "cell_type": "code",
   "execution_count": null,
   "metadata": {
    "collapsed": true
   },
   "outputs": [],
   "source": []
  }
 ],
 "metadata": {
  "kernelspec": {
   "display_name": "Python 3",
   "language": "python",
   "name": "python3"
  },
  "language_info": {
   "codemirror_mode": {
    "name": "ipython",
    "version": 3
   },
   "file_extension": ".py",
   "mimetype": "text/x-python",
   "name": "python",
   "nbconvert_exporter": "python",
   "pygments_lexer": "ipython3",
   "version": "3.5.2"
  }
 },
 "nbformat": 4,
 "nbformat_minor": 0
}
